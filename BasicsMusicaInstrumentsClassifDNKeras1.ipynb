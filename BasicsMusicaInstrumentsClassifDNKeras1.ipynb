{
 "cells": [
  {
   "cell_type": "code",
   "execution_count": 2,
   "metadata": {},
   "outputs": [
    {
     "name": "stderr",
     "output_type": "stream",
     "text": [
      "C:\\Users\\venky\\AppData\\Local\\Programs\\Python\\Python39\\lib\\site-packages\\numpy\\_distributor_init.py:30: UserWarning: loaded more than 1 DLL from .libs:\n",
      "C:\\Users\\venky\\AppData\\Local\\Programs\\Python\\Python39\\lib\\site-packages\\numpy\\.libs\\libopenblas.GK7GX5KEQ4F6UYO3P26ULGBQYHGQO7J4.gfortran-win_amd64.dll\n",
      "C:\\Users\\venky\\AppData\\Local\\Programs\\Python\\Python39\\lib\\site-packages\\numpy\\.libs\\libopenblas.WCDJNK7YVMPZQ2ME2ZZHJJRJ3JIKNDB7.gfortran-win_amd64.dll\n",
      "  warnings.warn(\"loaded more than 1 DLL from .libs:\"\n"
     ]
    }
   ],
   "source": [
    "# Imports\n",
    "\n",
    "#General\n",
    "import numpy as np\n",
    "import pickle\n",
    "import itertools\n",
    "\n",
    "# System\n",
    "import os, fnmatch\n",
    "\n",
    "# Visualization\n",
    "import seaborn #visualization library, must be imported before all other plotting libraries\n",
    "import matplotlib.pyplot as plt\n",
    "from IPython.core.display import HTML, display, Image\n",
    "\n",
    "\n",
    "# Machine Learning\n",
    "from sklearn.preprocessing import LabelEncoder, OneHotEncoder\n",
    "from sklearn.model_selection import StratifiedShuffleSplit, GridSearchCV\n",
    "from sklearn.neighbors import KNeighborsClassifier\n",
    "from sklearn.metrics import recall_score, precision_score, accuracy_score\n",
    "from sklearn.metrics import confusion_matrix, f1_score, classification_report\n",
    "from sklearn.metrics import classification_report\n",
    "\n",
    "# Deep Learning\n",
    "from keras import backend as K\n",
    "from keras.layers import Input, Dense\n",
    "from keras.models import Model, Sequential\n",
    "# from keras.optimizers import SGD\n",
    "from tensorflow.keras.optimizers import SGD\n",
    "from keras.callbacks import History\n",
    "from keras.wrappers.scikit_learn import KerasClassifier\n",
    "# from keras.utils import plot\n",
    "# _model\n",
    "from tensorflow.keras.utils import plot_model\n",
    "\n",
    "# Random Seed\n",
    "# from tensorflow import set_random_seed\n",
    "from tensorflow import random\n",
    "random.set_seed(1)\n",
    "from numpy.random import seed\n",
    "seed(1)\n",
    "# set_random_seed(2)\n",
    "import pickle\n",
    "# Audio\n",
    "import librosa.display, librosa\n",
    "\n",
    "# Configurations\n",
    "path='./audio/london_phill_dataset_multi/'"
   ]
  },
  {
   "cell_type": "markdown",
   "metadata": {},
   "source": [
    "## Get filenames"
   ]
  },
  {
   "cell_type": "code",
   "execution_count": 4,
   "metadata": {},
   "outputs": [
    {
     "name": "stdout",
     "output_type": "stream",
     "text": [
      "found 600 audio files in ./audio/london_phill_dataset_multi/\n"
     ]
    }
   ],
   "source": [
    "# Get files in data path\n",
    "\n",
    "files = []\n",
    "for root, dirnames, filenames in os.walk(path):\n",
    "    for filename in fnmatch.filter(filenames, '*.mp3'):\n",
    "        files.append(os.path.join(root, filename))\n",
    "\n",
    "print(\"found %d audio files in %s\"%(len(files),path))"
   ]
  },
  {
   "cell_type": "markdown",
   "metadata": {},
   "source": [
    "## Load Labels"
   ]
  },
  {
   "cell_type": "code",
   "execution_count": 5,
   "metadata": {},
   "outputs": [],
   "source": [
    "filename=\"inst_labels.pl\"\n",
    "# Load labels\n",
    "with open(filename, \"rb\") as f:\n",
    "    labels = pickle.load( open( filename, \"rb\" ) )"
   ]
  },
  {
   "cell_type": "code",
   "execution_count": 6,
   "metadata": {},
   "outputs": [
    {
     "name": "stdout",
     "output_type": "stream",
     "text": [
      "6 classes: cello, flute, oboe, sax, trumpet, viola\n"
     ]
    }
   ],
   "source": [
    "# Encode Labels\n",
    "labelencoder = LabelEncoder()\n",
    "labelencoder.fit(labels)\n",
    "print(len(labelencoder.classes_), \"classes:\", \", \".join(list(labelencoder.classes_)))\n",
    "classes_num = labelencoder.transform(labels)"
   ]
  },
  {
   "cell_type": "code",
   "execution_count": 7,
   "metadata": {},
   "outputs": [
    {
     "name": "stdout",
     "output_type": "stream",
     "text": [
      "Labels: ['oboe', 'oboe', 'oboe']\n",
      "Encoded Classes:  [2 2 2]\n"
     ]
    }
   ],
   "source": [
    "print('Labels:', labels[:3])\n",
    "print('Encoded Classes: ', classes_num[0:3])"
   ]
  },
  {
   "cell_type": "markdown",
   "metadata": {},
   "source": [
    "## Parameters for Train/Test Set"
   ]
  },
  {
   "cell_type": "code",
   "execution_count": 8,
   "metadata": {},
   "outputs": [],
   "source": [
    "# Machine Learning Parameters\n",
    "testset_size = 0.25 #Percentage of data for Testing"
   ]
  },
  {
   "cell_type": "markdown",
   "metadata": {},
   "source": [
    "## Save / Load Feature Vector"
   ]
  },
  {
   "cell_type": "code",
   "execution_count": 9,
   "metadata": {},
   "outputs": [],
   "source": [
    "filename=\"mfcc_feature_vectors.pl\"\n",
    "# Load mfcc features from saved file\n",
    "with open(filename, \"rb\") as f:\n",
    "    scaled_feature_vectors = pickle.load( open( filename, \"rb\" ) )"
   ]
  },
  {
   "cell_type": "markdown",
   "metadata": {},
   "source": [
    "## Train and Test Sets"
   ]
  },
  {
   "cell_type": "code",
   "execution_count": 10,
   "metadata": {},
   "outputs": [],
   "source": [
    "# Create Train and Test Set\n",
    "splitter = StratifiedShuffleSplit(n_splits=1, test_size=testset_size, random_state=0)\n",
    "splits = splitter.split(scaled_feature_vectors, classes_num)\n",
    "for train_index, test_index in splits:\n",
    "    train_set = scaled_feature_vectors[train_index]\n",
    "    test_set = scaled_feature_vectors[test_index]\n",
    "    train_classes = classes_num[train_index]\n",
    "    test_classes = classes_num[test_index]"
   ]
  },
  {
   "cell_type": "code",
   "execution_count": 11,
   "metadata": {},
   "outputs": [
    {
     "name": "stdout",
     "output_type": "stream",
     "text": [
      "train_set shape: (450, 13)\n",
      "test_set shape: (150, 13)\n",
      "train_classes shape: (450,)\n",
      "test_classes shape: (150,)\n"
     ]
    }
   ],
   "source": [
    "# Check Set Shapes\n",
    "print(\"train_set shape:\",train_set.shape)\n",
    "print(\"test_set shape:\",test_set.shape)\n",
    "print(\"train_classes shape:\",train_classes.shape)\n",
    "print(\"test_classes shape:\",test_classes.shape)"
   ]
  },
  {
   "cell_type": "markdown",
   "metadata": {},
   "source": [
    "## Keras"
   ]
  },
  {
   "cell_type": "code",
   "execution_count": 13,
   "metadata": {},
   "outputs": [],
   "source": [
    "# DNN\n",
    "# Use Keras Backend Type\n",
    "train_set_d=train_set.astype(K.floatx())\n",
    "test_set_d=test_set.astype(K.floatx())"
   ]
  },
  {
   "cell_type": "markdown",
   "metadata": {},
   "source": [
    "## One Hot Encoding"
   ]
  },
  {
   "cell_type": "code",
   "execution_count": 14,
   "metadata": {},
   "outputs": [],
   "source": [
    "# One Hot encode\n",
    "onehot_encoder = OneHotEncoder(sparse=False, categories='auto')\n",
    "integer_encoded_train_classes =  train_classes.reshape(len( train_classes), 1)\n",
    "onehot_encoded_train_classes = onehot_encoder.fit_transform(integer_encoded_train_classes,1)\n",
    "integer_encoded_test_classes =  test_classes.reshape(len( test_classes),1)\n",
    "onehot_encoded_test_classes = onehot_encoder.fit_transform(integer_encoded_test_classes,1)"
   ]
  },
  {
   "cell_type": "code",
   "execution_count": 15,
   "metadata": {},
   "outputs": [
    {
     "name": "stdout",
     "output_type": "stream",
     "text": [
      "Integer Encoded: [[0]\n",
      " [2]\n",
      " [1]]\n",
      "One-hot Encoded:  [[1. 0. 0. 0. 0. 0.]\n",
      " [0. 0. 1. 0. 0. 0.]\n",
      " [0. 1. 0. 0. 0. 0.]]\n"
     ]
    }
   ],
   "source": [
    "print('Integer Encoded:', integer_encoded_train_classes[:3] )\n",
    "print('One-hot Encoded: ', onehot_encoded_train_classes[:3] )"
   ]
  },
  {
   "cell_type": "code",
   "execution_count": 16,
   "metadata": {},
   "outputs": [
    {
     "name": "stdout",
     "output_type": "stream",
     "text": [
      "train_set shape: (450, 13)\n",
      "test_set shape: (150, 13)\n",
      "train_classes shape: (450, 6)\n",
      "test_classes shape: (150, 6)\n"
     ]
    }
   ],
   "source": [
    "# Check Set Shapes\n",
    "print(\"train_set shape:\",train_set_d.shape)\n",
    "print(\"test_set shape:\",test_set_d.shape)\n",
    "print(\"train_classes shape:\",onehot_encoded_train_classes.shape)\n",
    "print(\"test_classes shape:\",onehot_encoded_test_classes.shape)"
   ]
  },
  {
   "cell_type": "code",
   "execution_count": 17,
   "metadata": {},
   "outputs": [],
   "source": [
    "# Reshape Sets for Keras\n",
    "train_set_d=train_set.reshape(train_set_d.shape[0],1,train_set_d.shape[1])\n",
    "test_set_d=test_set.reshape(test_set_d.shape[0],1,test_set_d.shape[1])\n",
    "train_classes_d_hot=onehot_encoded_train_classes.reshape(onehot_encoded_train_classes.shape[0],1,\n",
    "                                                         onehot_encoded_train_classes.shape[1])\n",
    "test_classes_d_hot=onehot_encoded_test_classes.reshape(onehot_encoded_test_classes.shape[0],1,\n",
    "                                                       onehot_encoded_test_classes.shape[1])"
   ]
  },
  {
   "cell_type": "code",
   "execution_count": 18,
   "metadata": {},
   "outputs": [
    {
     "name": "stdout",
     "output_type": "stream",
     "text": [
      "train_set shape: (450, 1, 13)\n",
      "test_set shape: (450, 1, 13)\n",
      "train_classes shape: (450, 1, 6)\n",
      "test_classes shape: (150, 1, 6)\n"
     ]
    }
   ],
   "source": [
    "# Check Set Shapes\n",
    "print(\"train_set shape:\",train_set_d.shape)\n",
    "print(\"test_set shape:\",train_set_d.shape)\n",
    "print(\"train_classes shape:\",train_classes_d_hot.shape)\n",
    "print(\"test_classes shape:\",test_classes_d_hot.shape)"
   ]
  },
  {
   "cell_type": "code",
   "execution_count": 2,
   "metadata": {},
   "outputs": [],
   "source": [
    "# show_web(\"https://keras.io/models/model/\")"
   ]
  },
  {
   "cell_type": "markdown",
   "metadata": {},
   "source": [
    "## Create a Model"
   ]
  },
  {
   "cell_type": "code",
   "execution_count": 20,
   "metadata": {},
   "outputs": [
    {
     "name": "stdout",
     "output_type": "stream",
     "text": [
      "Model: \"model\"\n",
      "_________________________________________________________________\n",
      "Layer (type)                 Output Shape              Param #   \n",
      "=================================================================\n",
      "input_1 (InputLayer)         [(None, 1, 13)]           0         \n",
      "_________________________________________________________________\n",
      "dense (Dense)                (None, 1, 12)             168       \n",
      "_________________________________________________________________\n",
      "dense_1 (Dense)              (None, 1, 10)             130       \n",
      "_________________________________________________________________\n",
      "dense_3 (Dense)              (None, 1, 6)              66        \n",
      "_________________________________________________________________\n",
      "dense_4 (Dense)              (None, 1, 6)              42        \n",
      "=================================================================\n",
      "Total params: 406\n",
      "Trainable params: 406\n",
      "Non-trainable params: 0\n",
      "_________________________________________________________________\n"
     ]
    }
   ],
   "source": [
    "# Creat Simple Model\n",
    "model_input = Input(shape=(1,train_set.shape[1]))\n",
    "fc1 = Dense(12, activation=\"relu\")(model_input)\n",
    "fc2 = Dense(10, activation=\"relu\")(fc1)\n",
    "fc3 = Dense(8, activation=\"relu\")(fc2)\n",
    "fc4 = Dense(6, activation=\"relu\")(fc2)\n",
    "n=onehot_encoded_train_classes.shape[1]\n",
    "out = Dense(n, activation=\"softmax\")(fc4)\n",
    "model_d = Model(inputs=[model_input], outputs=[out])\n",
    "model_d.summary()"
   ]
  },
  {
   "cell_type": "code",
   "execution_count": 22,
   "metadata": {},
   "outputs": [
    {
     "name": "stdout",
     "output_type": "stream",
     "text": [
      "('You must install pydot (`pip install pydot`) and install graphviz (see instructions at https://graphviz.gitlab.io/download/) ', 'for plot_model/model_to_dot to work.')\n"
     ]
    }
   ],
   "source": [
    "plot_model(model_d, to_file='model_d.png', show_shapes=True)\n",
    "# Image('model_d.png')"
   ]
  },
  {
   "cell_type": "markdown",
   "metadata": {},
   "source": [
    "## Compile a Model"
   ]
  },
  {
   "cell_type": "code",
   "execution_count": 23,
   "metadata": {},
   "outputs": [
    {
     "name": "stderr",
     "output_type": "stream",
     "text": [
      "C:\\Users\\venky\\AppData\\Local\\Programs\\Python\\Python39\\lib\\site-packages\\keras\\optimizer_v2\\optimizer_v2.py:355: UserWarning: The `lr` argument is deprecated, use `learning_rate` instead.\n",
      "  warnings.warn(\n"
     ]
    }
   ],
   "source": [
    "# Compile Model\n",
    "model_d.compile(loss      = 'categorical_crossentropy',\n",
    "              optimizer = SGD(lr=0.05),\n",
    "              metrics   =['accuracy'])"
   ]
  },
  {
   "cell_type": "markdown",
   "metadata": {},
   "source": [
    "## Train a Model"
   ]
  },
  {
   "cell_type": "code",
   "execution_count": 24,
   "metadata": {},
   "outputs": [
    {
     "name": "stdout",
     "output_type": "stream",
     "text": [
      "Epoch 1/200\n",
      "90/90 [==============================] - 1s 3ms/step - loss: 1.6072 - accuracy: 0.3044 - val_loss: 1.2879 - val_accuracy: 0.4933\n",
      "Epoch 2/200\n",
      "90/90 [==============================] - 0s 1ms/step - loss: 1.1197 - accuracy: 0.5289 - val_loss: 0.8208 - val_accuracy: 0.6333\n",
      "Epoch 3/200\n",
      "90/90 [==============================] - 0s 1ms/step - loss: 0.7495 - accuracy: 0.7289 - val_loss: 0.6047 - val_accuracy: 0.7800\n",
      "Epoch 4/200\n",
      "90/90 [==============================] - 0s 1ms/step - loss: 0.5517 - accuracy: 0.8400 - val_loss: 0.4526 - val_accuracy: 0.8333\n",
      "Epoch 5/200\n",
      "90/90 [==============================] - 0s 1ms/step - loss: 0.3777 - accuracy: 0.8822 - val_loss: 0.3364 - val_accuracy: 0.9000\n",
      "Epoch 6/200\n",
      "90/90 [==============================] - 0s 1ms/step - loss: 0.2908 - accuracy: 0.9178 - val_loss: 0.2571 - val_accuracy: 0.9133\n",
      "Epoch 7/200\n",
      "90/90 [==============================] - 0s 1ms/step - loss: 0.2400 - accuracy: 0.9400 - val_loss: 0.4571 - val_accuracy: 0.8733\n",
      "Epoch 8/200\n",
      "90/90 [==============================] - 0s 1ms/step - loss: 0.2017 - accuracy: 0.9467 - val_loss: 0.3733 - val_accuracy: 0.8800\n",
      "Epoch 9/200\n",
      "90/90 [==============================] - 0s 1ms/step - loss: 0.2098 - accuracy: 0.9311 - val_loss: 0.1984 - val_accuracy: 0.9400\n",
      "Epoch 10/200\n",
      "90/90 [==============================] - 0s 1ms/step - loss: 0.1814 - accuracy: 0.9356 - val_loss: 0.3214 - val_accuracy: 0.8933\n",
      "Epoch 11/200\n",
      "90/90 [==============================] - 0s 1ms/step - loss: 0.1796 - accuracy: 0.9489 - val_loss: 0.2084 - val_accuracy: 0.9400\n",
      "Epoch 12/200\n",
      "90/90 [==============================] - 0s 1ms/step - loss: 0.1409 - accuracy: 0.9511 - val_loss: 0.2067 - val_accuracy: 0.9267\n",
      "Epoch 13/200\n",
      "90/90 [==============================] - 0s 1ms/step - loss: 0.1307 - accuracy: 0.9533 - val_loss: 0.2819 - val_accuracy: 0.9467\n",
      "Epoch 14/200\n",
      "90/90 [==============================] - 0s 1ms/step - loss: 0.0907 - accuracy: 0.9800 - val_loss: 0.1767 - val_accuracy: 0.9400\n",
      "Epoch 15/200\n",
      "90/90 [==============================] - 0s 1ms/step - loss: 0.1131 - accuracy: 0.9667 - val_loss: 0.1210 - val_accuracy: 0.9733\n",
      "Epoch 16/200\n",
      "90/90 [==============================] - 0s 1ms/step - loss: 0.0860 - accuracy: 0.9733 - val_loss: 0.1805 - val_accuracy: 0.9467\n",
      "Epoch 17/200\n",
      "90/90 [==============================] - 0s 1ms/step - loss: 0.0848 - accuracy: 0.9711 - val_loss: 0.2522 - val_accuracy: 0.9267\n",
      "Epoch 18/200\n",
      "90/90 [==============================] - 0s 1ms/step - loss: 0.0856 - accuracy: 0.9778 - val_loss: 0.1939 - val_accuracy: 0.9533\n",
      "Epoch 19/200\n",
      "90/90 [==============================] - 0s 1ms/step - loss: 0.0813 - accuracy: 0.9800 - val_loss: 0.1791 - val_accuracy: 0.9533\n",
      "Epoch 20/200\n",
      "90/90 [==============================] - 0s 1ms/step - loss: 0.0692 - accuracy: 0.9733 - val_loss: 0.4448 - val_accuracy: 0.9133\n",
      "Epoch 21/200\n",
      "90/90 [==============================] - 0s 1ms/step - loss: 0.1061 - accuracy: 0.9756 - val_loss: 0.2361 - val_accuracy: 0.9400\n",
      "Epoch 22/200\n",
      "90/90 [==============================] - 0s 1ms/step - loss: 0.0759 - accuracy: 0.9756 - val_loss: 0.1821 - val_accuracy: 0.9533\n",
      "Epoch 23/200\n",
      "90/90 [==============================] - 0s 1ms/step - loss: 0.0483 - accuracy: 0.9889 - val_loss: 0.1937 - val_accuracy: 0.9533\n",
      "Epoch 24/200\n",
      "90/90 [==============================] - 0s 1ms/step - loss: 0.1039 - accuracy: 0.9622 - val_loss: 0.2077 - val_accuracy: 0.9533\n",
      "Epoch 25/200\n",
      "90/90 [==============================] - 0s 1ms/step - loss: 0.0623 - accuracy: 0.9800 - val_loss: 0.2646 - val_accuracy: 0.9133\n",
      "Epoch 26/200\n",
      "90/90 [==============================] - 0s 1ms/step - loss: 0.0871 - accuracy: 0.9711 - val_loss: 0.1649 - val_accuracy: 0.9533\n",
      "Epoch 27/200\n",
      "90/90 [==============================] - 0s 1ms/step - loss: 0.0516 - accuracy: 0.9889 - val_loss: 0.2233 - val_accuracy: 0.9333\n",
      "Epoch 28/200\n",
      "90/90 [==============================] - 0s 1ms/step - loss: 0.0466 - accuracy: 0.9889 - val_loss: 0.2225 - val_accuracy: 0.9467\n",
      "Epoch 29/200\n",
      "90/90 [==============================] - 0s 1ms/step - loss: 0.0348 - accuracy: 0.9933 - val_loss: 0.2222 - val_accuracy: 0.9400\n",
      "Epoch 30/200\n",
      "90/90 [==============================] - 0s 1ms/step - loss: 0.0400 - accuracy: 0.9911 - val_loss: 0.2012 - val_accuracy: 0.9600\n",
      "Epoch 31/200\n",
      "90/90 [==============================] - 0s 1ms/step - loss: 0.0459 - accuracy: 0.9889 - val_loss: 0.1599 - val_accuracy: 0.9667\n",
      "Epoch 32/200\n",
      "90/90 [==============================] - 0s 1ms/step - loss: 0.0454 - accuracy: 0.9867 - val_loss: 0.1985 - val_accuracy: 0.9467\n",
      "Epoch 33/200\n",
      "90/90 [==============================] - 0s 1ms/step - loss: 0.0344 - accuracy: 0.9933 - val_loss: 0.1956 - val_accuracy: 0.9667\n",
      "Epoch 34/200\n",
      "90/90 [==============================] - 0s 1ms/step - loss: 0.0320 - accuracy: 0.9956 - val_loss: 0.1687 - val_accuracy: 0.9600\n",
      "Epoch 35/200\n",
      "90/90 [==============================] - 0s 1ms/step - loss: 0.0340 - accuracy: 0.9956 - val_loss: 0.2062 - val_accuracy: 0.9533\n",
      "Epoch 36/200\n",
      "90/90 [==============================] - 0s 1ms/step - loss: 0.0317 - accuracy: 0.9933 - val_loss: 0.1596 - val_accuracy: 0.9667\n",
      "Epoch 37/200\n",
      "90/90 [==============================] - 0s 1ms/step - loss: 0.0280 - accuracy: 0.9956 - val_loss: 0.1750 - val_accuracy: 0.9533\n",
      "Epoch 38/200\n",
      "90/90 [==============================] - 0s 1ms/step - loss: 0.0267 - accuracy: 0.9956 - val_loss: 0.1950 - val_accuracy: 0.9667\n",
      "Epoch 39/200\n",
      "90/90 [==============================] - 0s 1ms/step - loss: 0.0237 - accuracy: 0.9956 - val_loss: 0.1685 - val_accuracy: 0.9667\n",
      "Epoch 40/200\n",
      "90/90 [==============================] - 0s 1ms/step - loss: 0.0257 - accuracy: 0.9956 - val_loss: 0.2400 - val_accuracy: 0.9533\n",
      "Epoch 41/200\n",
      "90/90 [==============================] - 0s 1ms/step - loss: 0.0243 - accuracy: 0.9956 - val_loss: 0.2189 - val_accuracy: 0.9533\n",
      "Epoch 42/200\n",
      "90/90 [==============================] - 0s 1ms/step - loss: 0.0237 - accuracy: 0.9956 - val_loss: 0.1617 - val_accuracy: 0.9667\n",
      "Epoch 43/200\n",
      "90/90 [==============================] - 0s 1ms/step - loss: 0.0230 - accuracy: 0.9956 - val_loss: 0.1733 - val_accuracy: 0.9667\n",
      "Epoch 44/200\n",
      "90/90 [==============================] - 0s 1ms/step - loss: 0.0193 - accuracy: 0.9956 - val_loss: 0.2180 - val_accuracy: 0.9400\n",
      "Epoch 45/200\n",
      "90/90 [==============================] - 0s 1ms/step - loss: 0.0227 - accuracy: 0.9956 - val_loss: 0.1951 - val_accuracy: 0.9533\n",
      "Epoch 46/200\n",
      "90/90 [==============================] - 0s 1ms/step - loss: 0.0201 - accuracy: 0.9956 - val_loss: 0.1760 - val_accuracy: 0.9667\n",
      "Epoch 47/200\n",
      "90/90 [==============================] - 0s 1ms/step - loss: 0.0183 - accuracy: 0.9956 - val_loss: 0.2602 - val_accuracy: 0.9267\n",
      "Epoch 48/200\n",
      "90/90 [==============================] - 0s 1ms/step - loss: 0.0167 - accuracy: 0.9956 - val_loss: 0.1613 - val_accuracy: 0.9733\n",
      "Epoch 49/200\n",
      "90/90 [==============================] - 0s 1ms/step - loss: 0.0375 - accuracy: 0.9867 - val_loss: 0.2079 - val_accuracy: 0.9533\n",
      "Epoch 50/200\n",
      "90/90 [==============================] - 0s 1ms/step - loss: 0.0252 - accuracy: 0.9933 - val_loss: 0.2611 - val_accuracy: 0.9533\n",
      "Epoch 51/200\n",
      "90/90 [==============================] - 0s 1ms/step - loss: 0.1117 - accuracy: 0.9644 - val_loss: 0.3551 - val_accuracy: 0.9133\n",
      "Epoch 52/200\n",
      "90/90 [==============================] - 0s 1ms/step - loss: 0.0433 - accuracy: 0.9911 - val_loss: 0.4100 - val_accuracy: 0.9467\n",
      "Epoch 53/200\n",
      "90/90 [==============================] - 0s 1ms/step - loss: 0.0162 - accuracy: 0.9978 - val_loss: 0.2921 - val_accuracy: 0.9533\n",
      "Epoch 54/200\n",
      "90/90 [==============================] - 0s 1ms/step - loss: 0.0239 - accuracy: 0.9933 - val_loss: 0.2691 - val_accuracy: 0.9733\n",
      "Epoch 55/200\n",
      "90/90 [==============================] - 0s 1ms/step - loss: 0.0149 - accuracy: 0.9978 - val_loss: 0.2658 - val_accuracy: 0.9733\n",
      "Epoch 56/200\n",
      "90/90 [==============================] - 0s 1ms/step - loss: 0.0141 - accuracy: 0.9956 - val_loss: 0.2769 - val_accuracy: 0.9667\n",
      "Epoch 57/200\n",
      "90/90 [==============================] - 0s 1ms/step - loss: 0.0120 - accuracy: 0.9978 - val_loss: 0.2733 - val_accuracy: 0.9733\n",
      "Epoch 58/200\n",
      "90/90 [==============================] - 0s 1ms/step - loss: 0.0097 - accuracy: 0.9978 - val_loss: 0.2839 - val_accuracy: 0.9667\n",
      "Epoch 59/200\n",
      "90/90 [==============================] - 0s 1ms/step - loss: 0.0087 - accuracy: 0.9978 - val_loss: 0.2802 - val_accuracy: 0.9733\n",
      "Epoch 60/200\n",
      "90/90 [==============================] - 0s 1ms/step - loss: 0.0079 - accuracy: 0.9978 - val_loss: 0.2823 - val_accuracy: 0.9667\n",
      "Epoch 61/200\n",
      "90/90 [==============================] - 0s 1ms/step - loss: 0.0073 - accuracy: 0.9978 - val_loss: 0.2796 - val_accuracy: 0.9733\n",
      "Epoch 62/200\n",
      "90/90 [==============================] - 0s 1ms/step - loss: 0.0077 - accuracy: 0.9978 - val_loss: 0.2927 - val_accuracy: 0.9667\n",
      "Epoch 63/200\n",
      "90/90 [==============================] - 0s 1ms/step - loss: 0.0068 - accuracy: 0.9978 - val_loss: 0.2865 - val_accuracy: 0.9733\n",
      "Epoch 64/200\n",
      "90/90 [==============================] - 0s 1ms/step - loss: 0.0062 - accuracy: 0.9978 - val_loss: 0.2806 - val_accuracy: 0.9733\n",
      "Epoch 65/200\n",
      "90/90 [==============================] - 0s 1ms/step - loss: 0.0070 - accuracy: 0.9978 - val_loss: 0.2794 - val_accuracy: 0.9733\n",
      "Epoch 66/200\n",
      "90/90 [==============================] - 0s 1ms/step - loss: 0.0058 - accuracy: 0.9978 - val_loss: 0.2821 - val_accuracy: 0.9800\n",
      "Epoch 67/200\n",
      "90/90 [==============================] - 0s 1ms/step - loss: 0.0057 - accuracy: 0.9978 - val_loss: 0.2934 - val_accuracy: 0.9733\n",
      "Epoch 68/200\n",
      "90/90 [==============================] - 0s 1ms/step - loss: 0.0052 - accuracy: 0.9978 - val_loss: 0.2979 - val_accuracy: 0.9733\n",
      "Epoch 69/200\n",
      "90/90 [==============================] - 0s 1ms/step - loss: 0.0794 - accuracy: 0.9800 - val_loss: 0.2335 - val_accuracy: 0.9600\n",
      "Epoch 70/200\n",
      "90/90 [==============================] - 0s 1ms/step - loss: 0.6505 - accuracy: 0.9000 - val_loss: 0.3082 - val_accuracy: 0.9200\n",
      "Epoch 71/200\n",
      "90/90 [==============================] - 0s 1ms/step - loss: 0.0862 - accuracy: 0.9644 - val_loss: 0.4505 - val_accuracy: 0.9333\n",
      "Epoch 72/200\n",
      "90/90 [==============================] - 0s 1ms/step - loss: 0.0788 - accuracy: 0.9711 - val_loss: 0.1955 - val_accuracy: 0.9467\n",
      "Epoch 73/200\n",
      "90/90 [==============================] - 0s 1ms/step - loss: 0.0454 - accuracy: 0.9844 - val_loss: 0.1615 - val_accuracy: 0.9667\n",
      "Epoch 74/200\n",
      "90/90 [==============================] - 0s 1ms/step - loss: 0.0230 - accuracy: 0.9956 - val_loss: 0.2396 - val_accuracy: 0.9467\n",
      "Epoch 75/200\n",
      "90/90 [==============================] - 0s 1ms/step - loss: 0.0184 - accuracy: 0.9956 - val_loss: 0.2420 - val_accuracy: 0.9533\n",
      "Epoch 76/200\n",
      "90/90 [==============================] - 0s 1ms/step - loss: 0.0136 - accuracy: 0.9956 - val_loss: 0.2295 - val_accuracy: 0.9667\n",
      "Epoch 77/200\n",
      "90/90 [==============================] - 0s 1ms/step - loss: 0.0134 - accuracy: 0.9956 - val_loss: 0.2750 - val_accuracy: 0.9467\n",
      "Epoch 78/200\n",
      "90/90 [==============================] - 0s 1ms/step - loss: 0.0171 - accuracy: 0.9911 - val_loss: 0.2607 - val_accuracy: 0.9533\n",
      "Epoch 79/200\n",
      "90/90 [==============================] - 0s 1ms/step - loss: 0.0165 - accuracy: 0.9956 - val_loss: 0.2471 - val_accuracy: 0.9667\n",
      "Epoch 80/200\n",
      "90/90 [==============================] - 0s 1ms/step - loss: 0.0153 - accuracy: 0.9933 - val_loss: 0.2643 - val_accuracy: 0.9600\n",
      "Epoch 81/200\n",
      "90/90 [==============================] - 0s 1ms/step - loss: 0.0125 - accuracy: 0.9933 - val_loss: 0.2345 - val_accuracy: 0.9733\n",
      "Epoch 82/200\n",
      "90/90 [==============================] - 0s 1ms/step - loss: 0.0128 - accuracy: 0.9956 - val_loss: 0.2747 - val_accuracy: 0.9667\n",
      "Epoch 83/200\n",
      "90/90 [==============================] - 0s 1ms/step - loss: 0.0160 - accuracy: 0.9933 - val_loss: 0.2866 - val_accuracy: 0.9600\n",
      "Epoch 84/200\n",
      "90/90 [==============================] - 0s 1ms/step - loss: 0.0076 - accuracy: 0.9978 - val_loss: 0.2911 - val_accuracy: 0.9667\n",
      "Epoch 85/200\n",
      "90/90 [==============================] - 0s 1ms/step - loss: 0.0083 - accuracy: 0.9978 - val_loss: 0.2841 - val_accuracy: 0.9733\n",
      "Epoch 86/200\n",
      "90/90 [==============================] - 0s 1ms/step - loss: 0.0090 - accuracy: 0.9978 - val_loss: 0.2742 - val_accuracy: 0.9667\n",
      "Epoch 87/200\n",
      "90/90 [==============================] - 0s 1ms/step - loss: 0.0086 - accuracy: 0.9978 - val_loss: 0.2969 - val_accuracy: 0.9600\n",
      "Epoch 88/200\n",
      "90/90 [==============================] - 0s 1ms/step - loss: 0.0059 - accuracy: 0.9978 - val_loss: 0.2704 - val_accuracy: 0.9667\n",
      "Epoch 89/200\n",
      "90/90 [==============================] - 0s 1ms/step - loss: 0.0068 - accuracy: 0.9978 - val_loss: 0.3466 - val_accuracy: 0.9467\n",
      "Epoch 90/200\n",
      "90/90 [==============================] - 0s 1ms/step - loss: 0.0060 - accuracy: 0.9978 - val_loss: 0.2995 - val_accuracy: 0.9667\n",
      "Epoch 91/200\n",
      "90/90 [==============================] - 0s 1ms/step - loss: 0.0046 - accuracy: 0.9978 - val_loss: 0.3160 - val_accuracy: 0.9667\n",
      "Epoch 92/200\n",
      "90/90 [==============================] - 0s 1ms/step - loss: 0.0338 - accuracy: 0.9844 - val_loss: 0.3755 - val_accuracy: 0.9533\n",
      "Epoch 93/200\n",
      "90/90 [==============================] - 0s 1ms/step - loss: 0.0541 - accuracy: 0.9844 - val_loss: 0.3553 - val_accuracy: 0.9333\n",
      "Epoch 94/200\n",
      "90/90 [==============================] - 0s 1ms/step - loss: 0.0164 - accuracy: 0.9956 - val_loss: 0.3514 - val_accuracy: 0.9467\n",
      "Epoch 95/200\n",
      "90/90 [==============================] - 0s 1ms/step - loss: 0.0080 - accuracy: 0.9956 - val_loss: 0.2814 - val_accuracy: 0.9533\n",
      "Epoch 96/200\n",
      "90/90 [==============================] - 0s 1ms/step - loss: 0.0056 - accuracy: 0.9978 - val_loss: 0.2895 - val_accuracy: 0.9533\n",
      "Epoch 97/200\n",
      "90/90 [==============================] - 0s 1ms/step - loss: 0.0110 - accuracy: 0.9956 - val_loss: 0.3093 - val_accuracy: 0.9533\n",
      "Epoch 98/200\n",
      "90/90 [==============================] - 0s 1ms/step - loss: 0.0098 - accuracy: 0.9978 - val_loss: 0.3101 - val_accuracy: 0.9533\n",
      "Epoch 99/200\n",
      "90/90 [==============================] - 0s 1ms/step - loss: 0.0105 - accuracy: 0.9956 - val_loss: 0.3224 - val_accuracy: 0.9467\n",
      "Epoch 100/200\n",
      "90/90 [==============================] - 0s 1ms/step - loss: 0.0049 - accuracy: 0.9978 - val_loss: 0.3239 - val_accuracy: 0.9533\n",
      "Epoch 101/200\n",
      "90/90 [==============================] - 0s 1ms/step - loss: 0.0067 - accuracy: 0.9978 - val_loss: 0.3300 - val_accuracy: 0.9600\n",
      "Epoch 102/200\n",
      "90/90 [==============================] - 0s 1ms/step - loss: 0.0068 - accuracy: 0.9978 - val_loss: 0.3204 - val_accuracy: 0.9600\n",
      "Epoch 103/200\n",
      "90/90 [==============================] - 0s 1ms/step - loss: 0.0060 - accuracy: 0.9978 - val_loss: 0.3319 - val_accuracy: 0.9533\n",
      "Epoch 104/200\n",
      "90/90 [==============================] - 0s 1ms/step - loss: 0.0037 - accuracy: 1.0000 - val_loss: 0.3334 - val_accuracy: 0.9533\n",
      "Epoch 105/200\n",
      "90/90 [==============================] - 0s 1ms/step - loss: 0.0033 - accuracy: 1.0000 - val_loss: 0.3321 - val_accuracy: 0.9533\n",
      "Epoch 106/200\n",
      "90/90 [==============================] - 0s 1ms/step - loss: 0.0037 - accuracy: 0.9978 - val_loss: 0.3367 - val_accuracy: 0.9533\n",
      "Epoch 107/200\n",
      "90/90 [==============================] - 0s 1ms/step - loss: 0.0031 - accuracy: 1.0000 - val_loss: 0.3442 - val_accuracy: 0.9467\n",
      "Epoch 108/200\n",
      "90/90 [==============================] - 0s 1ms/step - loss: 0.0028 - accuracy: 1.0000 - val_loss: 0.3416 - val_accuracy: 0.9533\n",
      "Epoch 109/200\n",
      "90/90 [==============================] - 0s 1ms/step - loss: 0.0028 - accuracy: 1.0000 - val_loss: 0.3428 - val_accuracy: 0.9533\n",
      "Epoch 110/200\n",
      "90/90 [==============================] - 0s 1ms/step - loss: 0.0025 - accuracy: 1.0000 - val_loss: 0.3523 - val_accuracy: 0.9533\n",
      "Epoch 111/200\n",
      "90/90 [==============================] - 0s 1ms/step - loss: 0.0027 - accuracy: 1.0000 - val_loss: 0.3492 - val_accuracy: 0.9600\n",
      "Epoch 112/200\n",
      "90/90 [==============================] - 0s 1ms/step - loss: 0.0029 - accuracy: 1.0000 - val_loss: 0.3518 - val_accuracy: 0.9467\n",
      "Epoch 113/200\n",
      "90/90 [==============================] - 0s 1ms/step - loss: 0.0024 - accuracy: 1.0000 - val_loss: 0.3446 - val_accuracy: 0.9533\n",
      "Epoch 114/200\n",
      "90/90 [==============================] - 0s 1ms/step - loss: 0.0022 - accuracy: 1.0000 - val_loss: 0.3455 - val_accuracy: 0.9400\n",
      "Epoch 115/200\n",
      "90/90 [==============================] - 0s 1ms/step - loss: 0.0022 - accuracy: 1.0000 - val_loss: 0.3498 - val_accuracy: 0.9467\n",
      "Epoch 116/200\n",
      "90/90 [==============================] - 0s 1ms/step - loss: 0.0019 - accuracy: 1.0000 - val_loss: 0.3520 - val_accuracy: 0.9467\n",
      "Epoch 117/200\n",
      "90/90 [==============================] - 0s 1ms/step - loss: 0.0019 - accuracy: 1.0000 - val_loss: 0.3551 - val_accuracy: 0.9467\n",
      "Epoch 118/200\n",
      "90/90 [==============================] - 0s 1ms/step - loss: 0.0018 - accuracy: 1.0000 - val_loss: 0.3594 - val_accuracy: 0.9467\n",
      "Epoch 119/200\n",
      "90/90 [==============================] - 0s 1ms/step - loss: 0.0017 - accuracy: 1.0000 - val_loss: 0.3604 - val_accuracy: 0.9467\n",
      "Epoch 120/200\n",
      "90/90 [==============================] - 0s 1ms/step - loss: 0.0016 - accuracy: 1.0000 - val_loss: 0.3660 - val_accuracy: 0.9400\n",
      "Epoch 121/200\n",
      "90/90 [==============================] - 0s 1ms/step - loss: 0.0015 - accuracy: 1.0000 - val_loss: 0.3728 - val_accuracy: 0.9467\n",
      "Epoch 122/200\n",
      "90/90 [==============================] - 0s 1ms/step - loss: 0.0016 - accuracy: 1.0000 - val_loss: 0.3692 - val_accuracy: 0.9467\n",
      "Epoch 123/200\n",
      "90/90 [==============================] - 0s 1ms/step - loss: 0.0014 - accuracy: 1.0000 - val_loss: 0.3718 - val_accuracy: 0.9467\n",
      "Epoch 124/200\n",
      "90/90 [==============================] - 0s 1ms/step - loss: 0.0014 - accuracy: 1.0000 - val_loss: 0.3662 - val_accuracy: 0.9467\n",
      "Epoch 125/200\n",
      "90/90 [==============================] - 0s 1ms/step - loss: 0.0014 - accuracy: 1.0000 - val_loss: 0.3739 - val_accuracy: 0.9467\n",
      "Epoch 126/200\n",
      "90/90 [==============================] - 0s 1ms/step - loss: 0.0015 - accuracy: 1.0000 - val_loss: 0.3698 - val_accuracy: 0.9467\n",
      "Epoch 127/200\n",
      "90/90 [==============================] - 0s 1ms/step - loss: 0.0015 - accuracy: 1.0000 - val_loss: 0.3724 - val_accuracy: 0.9467\n",
      "Epoch 128/200\n",
      "90/90 [==============================] - 0s 1ms/step - loss: 0.0016 - accuracy: 1.0000 - val_loss: 0.3731 - val_accuracy: 0.9467\n",
      "Epoch 129/200\n",
      "90/90 [==============================] - 0s 1ms/step - loss: 0.0013 - accuracy: 1.0000 - val_loss: 0.3813 - val_accuracy: 0.9467\n",
      "Epoch 130/200\n",
      "90/90 [==============================] - 0s 1ms/step - loss: 0.0012 - accuracy: 1.0000 - val_loss: 0.3776 - val_accuracy: 0.9467\n",
      "Epoch 131/200\n",
      "90/90 [==============================] - 0s 1ms/step - loss: 0.0013 - accuracy: 1.0000 - val_loss: 0.3867 - val_accuracy: 0.9467\n",
      "Epoch 132/200\n",
      "90/90 [==============================] - 0s 1ms/step - loss: 0.0012 - accuracy: 1.0000 - val_loss: 0.3861 - val_accuracy: 0.9467\n",
      "Epoch 133/200\n",
      "90/90 [==============================] - 0s 1ms/step - loss: 0.0011 - accuracy: 1.0000 - val_loss: 0.3905 - val_accuracy: 0.9467\n",
      "Epoch 134/200\n",
      "90/90 [==============================] - 0s 1ms/step - loss: 0.0011 - accuracy: 1.0000 - val_loss: 0.3936 - val_accuracy: 0.9400\n",
      "Epoch 135/200\n",
      "90/90 [==============================] - 0s 1ms/step - loss: 0.0011 - accuracy: 1.0000 - val_loss: 0.3912 - val_accuracy: 0.9400\n",
      "Epoch 136/200\n",
      "90/90 [==============================] - 0s 1ms/step - loss: 0.0010 - accuracy: 1.0000 - val_loss: 0.3952 - val_accuracy: 0.9400\n",
      "Epoch 137/200\n",
      "90/90 [==============================] - 0s 1ms/step - loss: 9.9871e-04 - accuracy: 1.0000 - val_loss: 0.3983 - val_accuracy: 0.9400\n",
      "Epoch 138/200\n",
      "90/90 [==============================] - 0s 1ms/step - loss: 0.0010 - accuracy: 1.0000 - val_loss: 0.3965 - val_accuracy: 0.9400\n",
      "Epoch 139/200\n",
      "90/90 [==============================] - 0s 1ms/step - loss: 9.6458e-04 - accuracy: 1.0000 - val_loss: 0.3953 - val_accuracy: 0.9400\n",
      "Epoch 140/200\n",
      "90/90 [==============================] - 0s 1ms/step - loss: 9.4302e-04 - accuracy: 1.0000 - val_loss: 0.3965 - val_accuracy: 0.9400\n",
      "Epoch 141/200\n",
      "90/90 [==============================] - 0s 1ms/step - loss: 9.3813e-04 - accuracy: 1.0000 - val_loss: 0.4010 - val_accuracy: 0.9400\n",
      "Epoch 142/200\n",
      "90/90 [==============================] - 0s 1ms/step - loss: 8.9542e-04 - accuracy: 1.0000 - val_loss: 0.4045 - val_accuracy: 0.9400\n",
      "Epoch 143/200\n",
      "90/90 [==============================] - 0s 1ms/step - loss: 9.0019e-04 - accuracy: 1.0000 - val_loss: 0.4033 - val_accuracy: 0.9400\n",
      "Epoch 144/200\n",
      "90/90 [==============================] - 0s 1ms/step - loss: 8.7534e-04 - accuracy: 1.0000 - val_loss: 0.4062 - val_accuracy: 0.9400\n",
      "Epoch 145/200\n",
      "90/90 [==============================] - 0s 1ms/step - loss: 8.8809e-04 - accuracy: 1.0000 - val_loss: 0.4049 - val_accuracy: 0.9400\n",
      "Epoch 146/200\n",
      "90/90 [==============================] - 0s 1ms/step - loss: 8.3856e-04 - accuracy: 1.0000 - val_loss: 0.4066 - val_accuracy: 0.9400\n",
      "Epoch 147/200\n",
      "90/90 [==============================] - 0s 1ms/step - loss: 8.3779e-04 - accuracy: 1.0000 - val_loss: 0.4063 - val_accuracy: 0.9400\n",
      "Epoch 148/200\n",
      "90/90 [==============================] - 0s 1ms/step - loss: 8.1508e-04 - accuracy: 1.0000 - val_loss: 0.4093 - val_accuracy: 0.9400\n",
      "Epoch 149/200\n",
      "90/90 [==============================] - 0s 1ms/step - loss: 7.9823e-04 - accuracy: 1.0000 - val_loss: 0.4110 - val_accuracy: 0.9400\n",
      "Epoch 150/200\n",
      "90/90 [==============================] - 0s 1ms/step - loss: 7.7186e-04 - accuracy: 1.0000 - val_loss: 0.4153 - val_accuracy: 0.9400\n",
      "Epoch 151/200\n",
      "90/90 [==============================] - 0s 1ms/step - loss: 7.4924e-04 - accuracy: 1.0000 - val_loss: 0.4153 - val_accuracy: 0.9400\n",
      "Epoch 152/200\n",
      "90/90 [==============================] - 0s 1ms/step - loss: 7.6859e-04 - accuracy: 1.0000 - val_loss: 0.4152 - val_accuracy: 0.9400\n",
      "Epoch 153/200\n",
      "90/90 [==============================] - 0s 1ms/step - loss: 7.4440e-04 - accuracy: 1.0000 - val_loss: 0.4151 - val_accuracy: 0.9400\n",
      "Epoch 154/200\n",
      "90/90 [==============================] - 0s 1ms/step - loss: 7.3191e-04 - accuracy: 1.0000 - val_loss: 0.4156 - val_accuracy: 0.9400\n",
      "Epoch 155/200\n",
      "90/90 [==============================] - 0s 1ms/step - loss: 7.2213e-04 - accuracy: 1.0000 - val_loss: 0.4165 - val_accuracy: 0.9400\n",
      "Epoch 156/200\n",
      "90/90 [==============================] - 0s 1ms/step - loss: 7.1626e-04 - accuracy: 1.0000 - val_loss: 0.4204 - val_accuracy: 0.9400\n",
      "Epoch 157/200\n",
      "90/90 [==============================] - 0s 1ms/step - loss: 7.0181e-04 - accuracy: 1.0000 - val_loss: 0.4198 - val_accuracy: 0.9400\n",
      "Epoch 158/200\n",
      "90/90 [==============================] - 0s 1ms/step - loss: 6.8881e-04 - accuracy: 1.0000 - val_loss: 0.4198 - val_accuracy: 0.9400\n",
      "Epoch 159/200\n",
      "90/90 [==============================] - 0s 1ms/step - loss: 6.7084e-04 - accuracy: 1.0000 - val_loss: 0.4189 - val_accuracy: 0.9400\n",
      "Epoch 160/200\n",
      "90/90 [==============================] - 0s 1ms/step - loss: 6.5978e-04 - accuracy: 1.0000 - val_loss: 0.4220 - val_accuracy: 0.9400\n",
      "Epoch 161/200\n",
      "90/90 [==============================] - 0s 1ms/step - loss: 6.4860e-04 - accuracy: 1.0000 - val_loss: 0.4226 - val_accuracy: 0.9400\n",
      "Epoch 162/200\n",
      "90/90 [==============================] - 0s 1ms/step - loss: 6.5060e-04 - accuracy: 1.0000 - val_loss: 0.4225 - val_accuracy: 0.9400\n",
      "Epoch 163/200\n",
      "90/90 [==============================] - 0s 1ms/step - loss: 6.4836e-04 - accuracy: 1.0000 - val_loss: 0.4245 - val_accuracy: 0.9400\n",
      "Epoch 164/200\n",
      "90/90 [==============================] - 0s 1ms/step - loss: 6.2608e-04 - accuracy: 1.0000 - val_loss: 0.4255 - val_accuracy: 0.9400\n",
      "Epoch 165/200\n",
      "90/90 [==============================] - 0s 1ms/step - loss: 6.2518e-04 - accuracy: 1.0000 - val_loss: 0.4256 - val_accuracy: 0.9400\n",
      "Epoch 166/200\n",
      "90/90 [==============================] - 0s 1ms/step - loss: 6.0423e-04 - accuracy: 1.0000 - val_loss: 0.4274 - val_accuracy: 0.9400\n",
      "Epoch 167/200\n",
      "90/90 [==============================] - 0s 1ms/step - loss: 6.0579e-04 - accuracy: 1.0000 - val_loss: 0.4269 - val_accuracy: 0.9400\n",
      "Epoch 168/200\n",
      "90/90 [==============================] - 0s 1ms/step - loss: 5.8685e-04 - accuracy: 1.0000 - val_loss: 0.4281 - val_accuracy: 0.9400\n",
      "Epoch 169/200\n",
      "90/90 [==============================] - 0s 1ms/step - loss: 5.9283e-04 - accuracy: 1.0000 - val_loss: 0.4299 - val_accuracy: 0.9400\n",
      "Epoch 170/200\n",
      "90/90 [==============================] - 0s 1ms/step - loss: 5.8325e-04 - accuracy: 1.0000 - val_loss: 0.4305 - val_accuracy: 0.9400\n",
      "Epoch 171/200\n",
      "90/90 [==============================] - 0s 1ms/step - loss: 5.7320e-04 - accuracy: 1.0000 - val_loss: 0.4308 - val_accuracy: 0.9400\n",
      "Epoch 172/200\n",
      "90/90 [==============================] - 0s 1ms/step - loss: 5.5721e-04 - accuracy: 1.0000 - val_loss: 0.4324 - val_accuracy: 0.9400\n",
      "Epoch 173/200\n",
      "90/90 [==============================] - 0s 1ms/step - loss: 5.6434e-04 - accuracy: 1.0000 - val_loss: 0.4324 - val_accuracy: 0.9400\n",
      "Epoch 174/200\n",
      "90/90 [==============================] - 0s 1ms/step - loss: 5.4173e-04 - accuracy: 1.0000 - val_loss: 0.4344 - val_accuracy: 0.9400\n",
      "Epoch 175/200\n",
      "90/90 [==============================] - 0s 1ms/step - loss: 5.4867e-04 - accuracy: 1.0000 - val_loss: 0.4355 - val_accuracy: 0.9400\n",
      "Epoch 176/200\n",
      "90/90 [==============================] - 0s 1ms/step - loss: 5.3364e-04 - accuracy: 1.0000 - val_loss: 0.4348 - val_accuracy: 0.9400\n",
      "Epoch 177/200\n",
      "90/90 [==============================] - 0s 1ms/step - loss: 5.2859e-04 - accuracy: 1.0000 - val_loss: 0.4366 - val_accuracy: 0.9400\n",
      "Epoch 178/200\n",
      "90/90 [==============================] - 0s 1ms/step - loss: 5.2126e-04 - accuracy: 1.0000 - val_loss: 0.4350 - val_accuracy: 0.9400\n",
      "Epoch 179/200\n",
      "90/90 [==============================] - 0s 1ms/step - loss: 5.1458e-04 - accuracy: 1.0000 - val_loss: 0.4381 - val_accuracy: 0.9400\n",
      "Epoch 180/200\n",
      "90/90 [==============================] - 0s 1ms/step - loss: 5.1095e-04 - accuracy: 1.0000 - val_loss: 0.4375 - val_accuracy: 0.9400\n",
      "Epoch 181/200\n",
      "90/90 [==============================] - 0s 1ms/step - loss: 5.0192e-04 - accuracy: 1.0000 - val_loss: 0.4385 - val_accuracy: 0.9400\n",
      "Epoch 182/200\n",
      "90/90 [==============================] - 0s 1ms/step - loss: 5.0090e-04 - accuracy: 1.0000 - val_loss: 0.4394 - val_accuracy: 0.9400\n",
      "Epoch 183/200\n",
      "90/90 [==============================] - 0s 1ms/step - loss: 4.9245e-04 - accuracy: 1.0000 - val_loss: 0.4394 - val_accuracy: 0.9400\n",
      "Epoch 184/200\n",
      "90/90 [==============================] - 0s 1ms/step - loss: 4.8114e-04 - accuracy: 1.0000 - val_loss: 0.4408 - val_accuracy: 0.9400\n",
      "Epoch 185/200\n",
      "90/90 [==============================] - 0s 1ms/step - loss: 4.7852e-04 - accuracy: 1.0000 - val_loss: 0.4415 - val_accuracy: 0.9400\n",
      "Epoch 186/200\n",
      "90/90 [==============================] - 0s 1ms/step - loss: 4.7412e-04 - accuracy: 1.0000 - val_loss: 0.4439 - val_accuracy: 0.9400\n",
      "Epoch 187/200\n",
      "90/90 [==============================] - 0s 1ms/step - loss: 4.6500e-04 - accuracy: 1.0000 - val_loss: 0.4448 - val_accuracy: 0.9400\n",
      "Epoch 188/200\n",
      "90/90 [==============================] - 0s 1ms/step - loss: 4.7108e-04 - accuracy: 1.0000 - val_loss: 0.4452 - val_accuracy: 0.9400\n",
      "Epoch 189/200\n",
      "90/90 [==============================] - 0s 1ms/step - loss: 4.6129e-04 - accuracy: 1.0000 - val_loss: 0.4455 - val_accuracy: 0.9400\n",
      "Epoch 190/200\n",
      "90/90 [==============================] - 0s 1ms/step - loss: 4.5108e-04 - accuracy: 1.0000 - val_loss: 0.4470 - val_accuracy: 0.9400\n",
      "Epoch 191/200\n",
      "90/90 [==============================] - 0s 1ms/step - loss: 4.5213e-04 - accuracy: 1.0000 - val_loss: 0.4466 - val_accuracy: 0.9400\n",
      "Epoch 192/200\n",
      "90/90 [==============================] - 0s 1ms/step - loss: 4.4713e-04 - accuracy: 1.0000 - val_loss: 0.4468 - val_accuracy: 0.9400\n",
      "Epoch 193/200\n",
      "90/90 [==============================] - 0s 1ms/step - loss: 4.3758e-04 - accuracy: 1.0000 - val_loss: 0.4491 - val_accuracy: 0.9400\n",
      "Epoch 194/200\n",
      "90/90 [==============================] - 0s 1ms/step - loss: 4.3793e-04 - accuracy: 1.0000 - val_loss: 0.4481 - val_accuracy: 0.9400\n",
      "Epoch 195/200\n",
      "90/90 [==============================] - 0s 1ms/step - loss: 4.3006e-04 - accuracy: 1.0000 - val_loss: 0.4492 - val_accuracy: 0.9400\n",
      "Epoch 196/200\n",
      "90/90 [==============================] - 0s 1ms/step - loss: 4.2701e-04 - accuracy: 1.0000 - val_loss: 0.4495 - val_accuracy: 0.9400\n",
      "Epoch 197/200\n",
      "90/90 [==============================] - 0s 1ms/step - loss: 4.2267e-04 - accuracy: 1.0000 - val_loss: 0.4490 - val_accuracy: 0.9400\n",
      "Epoch 198/200\n",
      "90/90 [==============================] - 0s 1ms/step - loss: 4.1853e-04 - accuracy: 1.0000 - val_loss: 0.4507 - val_accuracy: 0.9400\n",
      "Epoch 199/200\n",
      "90/90 [==============================] - 0s 1ms/step - loss: 4.1045e-04 - accuracy: 1.0000 - val_loss: 0.4523 - val_accuracy: 0.9400\n",
      "Epoch 200/200\n",
      "90/90 [==============================] - 0s 1ms/step - loss: 4.1310e-04 - accuracy: 1.0000 - val_loss: 0.4531 - val_accuracy: 0.9400\n"
     ]
    }
   ],
   "source": [
    "# Deep Learning Parameters\n",
    "batch_size = 5 # Number of samples per gradient update.\n",
    "epochs = 200    # An epoch is an iteration over the entire x and y data provided.\n",
    "\n",
    "# Train Model\n",
    "hist = model_d.fit(train_set_d, train_classes_d_hot, verbose=1, \n",
    "                    batch_size=batch_size, epochs=epochs, validation_data=(test_set_d,test_classes_d_hot))"
   ]
  },
  {
   "cell_type": "code",
   "execution_count": 30,
   "metadata": {},
   "outputs": [
    {
     "name": "stdout",
     "output_type": "stream",
     "text": [
      "Training Complete\n",
      "dict_keys(['loss', 'accuracy', 'val_loss', 'val_accuracy'])\n"
     ]
    }
   ],
   "source": [
    "print(\"Training Complete\")\n",
    "print(hist.history.keys())"
   ]
  },
  {
   "cell_type": "code",
   "execution_count": 32,
   "metadata": {},
   "outputs": [
    {
     "data": {
      "image/png": "[encoded data removed]",
      "text/plain": [
       "<Figure size 576x288 with 2 Axes>"
      ]
     },
     "metadata": {
      "needs_background": "light"
     },
     "output_type": "display_data"
    }
   ],
   "source": [
    "# Plot Training Loss and Training Accuracy\n",
    "plt.figure(figsize=(8,4))\n",
    "plt.subplot(1, 2, 1)\n",
    "plt.title(\"Training loss\")\n",
    "plt.plot(range(epochs),hist.history[\"loss\"])\n",
    "\n",
    "plt.subplot(1, 2, 2)\n",
    "plt.title(\"Training Accuracy\")\n",
    "plt.plot(range(epochs),hist.history[\"accuracy\"])\n",
    "\n",
    "plt.tight_layout()"
   ]
  },
  {
   "cell_type": "markdown",
   "metadata": {},
   "source": [
    "## Make Predictions"
   ]
  },
  {
   "cell_type": "code",
   "execution_count": 33,
   "metadata": {},
   "outputs": [],
   "source": [
    "# Predict\n",
    "predictions = model_d.predict(test_set_d)\n",
    "predictions_round=predictions.round().astype('int')\n",
    "predictions_int=np.argmax(predictions_round,axis=2)\n",
    "predictions_labels=labelencoder.inverse_transform(np.ravel(predictions_int))"
   ]
  },
  {
   "cell_type": "markdown",
   "metadata": {},
   "source": [
    "## Evaluation"
   ]
  },
  {
   "cell_type": "code",
   "execution_count": 34,
   "metadata": {},
   "outputs": [
    {
     "name": "stdout",
     "output_type": "stream",
     "text": [
      "Recall:  [0.96 0.88 0.96 1.   0.92 0.92]\n",
      "Precision:  [1.         0.95652174 0.96       0.89285714 0.95833333 0.88461538]\n",
      "F1-Score:  [0.97959184 0.91666667 0.96       0.94339623 0.93877551 0.90196078]\n",
      "Accuracy:  141\n",
      "Number of samples: 150\n"
     ]
    }
   ],
   "source": [
    "# Recall - the ability of the classifier to find all the positive samples\n",
    "print(\"Recall: \", recall_score(test_classes, predictions_int,average=None))\n",
    "\n",
    "# Precision - The precision is intuitively the ability of the classifier not to label as positive a sample that is negatives\n",
    "print(\"Precision: \", precision_score(test_classes, predictions_int,average=None))\n",
    "\n",
    "# F1-Score - The F1 score can be interpreted as a weighted average of the precision and recall,\n",
    "print(\"F1-Score: \", f1_score(test_classes, predictions_int, average=None))\n",
    "\n",
    "# Accuracy - the number of correctly classified samples\n",
    "print(\"Accuracy: \", accuracy_score(test_classes, predictions_int,normalize=False))\n",
    "print(\"Number of samples:\",test_classes.shape[0])"
   ]
  },
  {
   "cell_type": "code",
   "execution_count": 35,
   "metadata": {},
   "outputs": [],
   "source": [
    "# Compute confusion matrix\n",
    "cnf_matrix = confusion_matrix(test_classes, predictions_int)\n",
    "np.set_printoptions(precision=2)"
   ]
  },
  {
   "cell_type": "code",
   "execution_count": 36,
   "metadata": {},
   "outputs": [],
   "source": [
    "# Function to Plot Confusion Matrix\n",
    "# http://scikit-learn.org/stable/auto_examples/model_selection/plot_confusion_matrix.html\n",
    "def plot_confusion_matrix(cm, classes,\n",
    "                          normalize=False,\n",
    "                          title='Confusion matrix',\n",
    "                          cmap=plt.cm.Blues):\n",
    "    \"\"\"\n",
    "    This function prints and plots the confusion matrix.\n",
    "    Normalization can be applied by setting `normalize=True`.\n",
    "    \n",
    "    if normalize:\n",
    "        cm = cm.astype('float') / cm.sum(axis=1)[:, np.newaxis]\n",
    "        print(\"Normalized confusion matrix\")\n",
    "    else:\n",
    "        print('Confusion matrix, without normalization')\n",
    "    \"\"\"\n",
    "    #print(cm)\n",
    "\n",
    "    plt.imshow(cm, interpolation='nearest', cmap=cmap)\n",
    "    plt.title(title)\n",
    "    plt.colorbar()\n",
    "    tick_marks = np.arange(len(classes))\n",
    "    plt.xticks(tick_marks, classes, rotation=45)\n",
    "    plt.yticks(tick_marks, classes)\n",
    "\n",
    "    fmt = '.2f' if normalize else 'd'\n",
    "    thresh = cm.max() / 2.\n",
    "    for i, j in itertools.product(range(cm.shape[0]), range(cm.shape[1])):\n",
    "        plt.text(j, i, format(cm[i, j], fmt),\n",
    "                 horizontalalignment=\"center\",\n",
    "                 color=\"white\" if cm[i, j] > thresh else \"black\")\n",
    "\n",
    "    plt.tight_layout()\n",
    "    plt.ylabel('True label')\n",
    "    plt.xlabel('Predicted label')"
   ]
  },
  {
   "cell_type": "code",
   "execution_count": 37,
   "metadata": {},
   "outputs": [
    {
     "data": {
      "image/png": "[encoded data removed]",
      "text/plain": [
       "<Figure size 1152x864 with 2 Axes>"
      ]
     },
     "metadata": {
      "needs_background": "light"
     },
     "output_type": "display_data"
    }
   ],
   "source": [
    "# Plot non-normalized confusion matrix\n",
    "plt.figure(figsize=(16,12))\n",
    "plot_confusion_matrix(cnf_matrix, classes=labelencoder.classes_,\n",
    "                      title='Confusion matrix, without normalization')"
   ]
  },
  {
   "cell_type": "code",
   "execution_count": 38,
   "metadata": {},
   "outputs": [],
   "source": [
    "# Find wrong predicted samples indexes\n",
    "wrong_predictions = [i for i, (e1, e2) in enumerate(zip(test_classes, predictions_int)) if e1 != e2]"
   ]
  },
  {
   "cell_type": "code",
   "execution_count": 39,
   "metadata": {},
   "outputs": [
    {
     "name": "stdout",
     "output_type": "stream",
     "text": [
      "['flute' 'viola' 'cello' 'viola' 'trumpet' 'flute' 'oboe' 'flute'\n",
      " 'trumpet']\n",
      "['sax' 'sax' 'viola' 'flute' 'viola' 'oboe' 'sax' 'trumpet' 'viola']\n",
      "['./audio/london_phill_dataset_multi/viola\\\\viola_A3_025_pianissimo_arco-normal.mp3'\n",
      " './audio/london_phill_dataset_multi/oboe\\\\oboe_Gs4_05_fortissimo_normal.mp3'\n",
      " './audio/london_phill_dataset_multi/trumpet\\\\trumpet_E6_1_forte_normal.mp3'\n",
      " './audio/london_phill_dataset_multi/oboe\\\\oboe_A4_05_fortissimo_normal.mp3'\n",
      " './audio/london_phill_dataset_multi/sax\\\\saxophone_Ds5_1_forte_major-trill.mp3'\n",
      " './audio/london_phill_dataset_multi/viola\\\\viola_A4_025_fortissimo_arco-normal.mp3'\n",
      " './audio/london_phill_dataset_multi/cello\\\\cello_A2_025_mezzo-forte_arco-col-legno-battuto.mp3'\n",
      " './audio/london_phill_dataset_multi/viola\\\\viola_A4_05_pianissimo_arco-normal.mp3'\n",
      " './audio/london_phill_dataset_multi/sax\\\\saxophone_Ds5_1_forte_minor-trill.mp3']\n"
     ]
    }
   ],
   "source": [
    "# Find wrong predicted audio files\n",
    "print(np.array(labels)[test_index[wrong_predictions]])\n",
    "print(predictions_labels[wrong_predictions].T)\n",
    "print(np.array(files)[test_index[wrong_predictions]])"
   ]
  },
  {
   "cell_type": "code",
   "execution_count": 40,
   "metadata": {},
   "outputs": [],
   "source": [
    "def plot_history(history):\n",
    "    loss_list = [s for s in history.history.keys() if 'loss' in s and 'val' not in s]\n",
    "    val_loss_list = [s for s in history.history.keys() if 'loss' in s and 'val' in s]\n",
    "    acc_list = [s for s in history.history.keys() if 'acc' in s and 'val' not in s]\n",
    "    val_acc_list = [s for s in history.history.keys() if 'acc' in s and 'val' in s]\n",
    "    \n",
    "    if len(loss_list) == 0:\n",
    "        print('Loss is missing in history')\n",
    "        return \n",
    "    \n",
    "    ## As loss always exists\n",
    "    epochs = range(1,len(history.history[loss_list[0]]) + 1)\n",
    "    \n",
    "    ## Loss\n",
    "    plt.figure(1)\n",
    "    for l in loss_list:\n",
    "        plt.plot(epochs, history.history[l], 'b', label='Training loss (' + str(str(format(history.history[l][-1],'.5f'))+')'))\n",
    "    for l in val_loss_list:\n",
    "        plt.plot(epochs, history.history[l], 'g', label='Validation loss (' + str(str(format(history.history[l][-1],'.5f'))+')'))\n",
    "    \n",
    "    plt.title('Loss')\n",
    "    plt.xlabel('Epochs')\n",
    "    plt.ylabel('Loss')\n",
    "    plt.legend()\n",
    "    \n",
    "    ## Accuracy\n",
    "    plt.figure(2)\n",
    "    for l in acc_list:\n",
    "        plt.plot(epochs, history.history[l], 'b', label='Training accuracy (' + str(format(history.history[l][-1],'.5f'))+')')\n",
    "    for l in val_acc_list:    \n",
    "        plt.plot(epochs, history.history[l], 'g', label='Validation accuracy (' + str(format(history.history[l][-1],'.5f'))+')')\n",
    "\n",
    "    plt.title('Accuracy')\n",
    "    plt.xlabel('Epochs')\n",
    "    plt.ylabel('Accuracy')\n",
    "    plt.legend()\n",
    "    plt.show()"
   ]
  },
  {
   "cell_type": "code",
   "execution_count": 41,
   "metadata": {},
   "outputs": [
    {
     "data": {
      "image/png": "[encoded data removed]",
      "text/plain": [
       "<Figure size 432x288 with 1 Axes>"
      ]
     },
     "metadata": {
      "needs_background": "light"
     },
     "output_type": "display_data"
    },
    {
     "data": {
      "image/png": "[encoded data removed]",
      "text/plain": [
       "<Figure size 432x288 with 1 Axes>"
      ]
     },
     "metadata": {
      "needs_background": "light"
     },
     "output_type": "display_data"
    }
   ],
   "source": [
    "plot_history(hist)"
   ]
  },
  {
   "cell_type": "code",
   "execution_count": null,
   "metadata": {},
   "outputs": [],
   "source": []
  },
  {
   "cell_type": "code",
   "execution_count": null,
   "metadata": {},
   "outputs": [],
   "source": [
    "#0.97 Accuracy"
   ]
  },
  {
   "cell_type": "code",
   "execution_count": null,
   "metadata": {},
   "outputs": [],
   "source": []
  }
 ],
 "metadata": {
  "kernelspec": {
   "display_name": "Python 3",
   "language": "python",
   "name": "python3"
  },
  "language_info": {
   "codemirror_mode": {
    "name": "ipython",
    "version": 3
   },
   "file_extension": ".py",
   "mimetype": "text/x-python",
   "name": "python",
   "nbconvert_exporter": "python",
   "pygments_lexer": "ipython3",
   "version": "3.9.4"
  }
 },
 "nbformat": 4,
 "nbformat_minor": 2
}
